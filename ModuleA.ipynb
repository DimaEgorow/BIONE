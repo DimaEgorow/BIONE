{
 "cells": [
  {
   "cell_type": "code",
   "execution_count": 3,
   "metadata": {},
   "outputs": [
    {
     "name": "stdout",
     "output_type": "stream",
     "text": [
      "Датасет 1:\n",
      "        Дата          Категория  Регион  Объем_потерь_кг\n",
      "0 2020-08-31           Зерновые   Север            728.0\n",
      "1 2024-02-29              Овощи      Юг            196.0\n",
      "2 2018-06-30  Молочные продукты   Запад            748.0\n",
      "3 2021-11-30             Фрукты  Восток              NaN\n",
      "4 2018-10-31           Зерновые  Восток            690.0\n",
      "5 2020-09-30              Овощи  Восток            473.0\n",
      "6 2024-11-30           Зерновые   Запад            404.0\n",
      "7 2022-12-31             Фрукты  Восток            140.0\n",
      "8 2021-01-31           Зерновые  Восток            115.0\n",
      "9 2019-04-30           Зерновые  Восток            669.0\n",
      "\n",
      "Датасет 2:\n",
      "        Дата          Категория  Регион  Объем_потерь_кг\n",
      "0 2022-02-28             Фрукты  Восток              NaN\n",
      "1 2023-10-31              Овощи   Север              NaN\n",
      "2 2021-08-31              Овощи   Запад            741.0\n",
      "3 2019-05-31              Овощи      Юг            639.0\n",
      "4 2020-12-31              Овощи   Север            319.0\n",
      "5 2019-03-31              Овощи   Север              NaN\n",
      "6 2023-02-28           Зерновые   Запад            622.0\n",
      "7 2023-06-30             Фрукты      Юг            387.0\n",
      "8 2022-08-31  Молочные продукты   Запад            263.0\n",
      "9 2020-02-29           Зерновые   Север              NaN\n",
      "\n",
      "Датасет 3:\n",
      "        Дата          Категория  Регион  Объем_потерь_кг\n",
      "0 2023-02-28              Овощи   Север            777.0\n",
      "1 2018-04-30           Зерновые   Север              NaN\n",
      "2 2020-12-31               Мясо      Юг            551.0\n",
      "3 2023-11-30              Овощи   Запад              NaN\n",
      "4 2018-09-30              Овощи      Юг            693.0\n",
      "5 2019-12-31             Фрукты   Запад            537.0\n",
      "6 2023-03-31  Молочные продукты   Запад             32.0\n",
      "7 2022-08-31  Молочные продукты      Юг              NaN\n",
      "8 2021-12-31              Овощи  Восток            218.0\n",
      "9 2022-10-31           Зерновые   Север            494.0\n"
     ]
    },
    {
     "name": "stderr",
     "output_type": "stream",
     "text": [
      "C:\\Users\\yegor\\AppData\\Local\\Temp\\ipykernel_16228\\3260663516.py:12: FutureWarning: 'M' is deprecated and will be removed in a future version, please use 'ME' instead.\n",
      "  dates = pd.date_range(start='2018-01-01', end='2024-12-31', freq='M')\n",
      "C:\\Users\\yegor\\AppData\\Local\\Temp\\ipykernel_16228\\3260663516.py:12: FutureWarning: 'M' is deprecated and will be removed in a future version, please use 'ME' instead.\n",
      "  dates = pd.date_range(start='2018-01-01', end='2024-12-31', freq='M')\n",
      "C:\\Users\\yegor\\AppData\\Local\\Temp\\ipykernel_16228\\3260663516.py:12: FutureWarning: 'M' is deprecated and will be removed in a future version, please use 'ME' instead.\n",
      "  dates = pd.date_range(start='2018-01-01', end='2024-12-31', freq='M')\n"
     ]
    }
   ],
   "source": [
    "import pandas as pd\n",
    "import numpy as np\n",
    "import random\n",
    "\n",
    "# Установка начального значения для генератора случайных чисел\n",
    "random.seed(42)\n",
    "\n",
    "# Функция для генерации данных\n",
    "def generate_data(num_records):\n",
    "    categories = ['Фрукты', 'Овощи', 'Мясо', 'Молочные продукты', 'Зерновые']\n",
    "    regions = ['Север', 'Юг', 'Восток', 'Запад']\n",
    "    dates = pd.date_range(start='2018-01-01', end='2024-12-31', freq='M')\n",
    "\n",
    "    data = {\n",
    "        'Дата': np.random.choice(dates, num_records),\n",
    "        'Категория': np.random.choice(categories, num_records),\n",
    "        'Регион': np.random.choice(regions, num_records),\n",
    "        'Объем_потерь_кг': np.random.randint(0, 1000, num_records).astype(float)\n",
    "    }\n",
    "\n",
    "    df = pd.DataFrame(data)\n",
    "\n",
    "    # Введение аномалий\n",
    "    # Пустые значения\n",
    "    df.loc[random.sample(range(num_records), 100), 'Объем_потерь_кг'] = np.nan\n",
    "\n",
    "    # Отрицательные значения\n",
    "    df.loc[random.sample(range(num_records), 20), 'Объем_потерь_кг'] = -np.random.randint(1, 100, 20)\n",
    "\n",
    "    # Дубликаты\n",
    "    df = pd.concat([df, df.sample(50)]).reset_index(drop=True)\n",
    "\n",
    "    # Неверные значения (очень большие объемы потерь)\n",
    "    df.loc[random.sample(range(num_records), 10), 'Объем_потерь_кг'] = np.random.randint(10000, 20000, 10)\n",
    "\n",
    "    # Ошибки в категориях (вводим случайные строки)\n",
    "    invalid_categories = ['Неправильная категория'] * 10\n",
    "    df.loc[random.sample(range(num_records), 10), 'Категория'] = invalid_categories\n",
    "\n",
    "    return df\n",
    "\n",
    "# Генерация трех разных датасетов\n",
    "df1 = generate_data(500)\n",
    "df2 = generate_data(500)\n",
    "df3 = generate_data(500)\n",
    "\n",
    "# Сохранение в разные форматы\n",
    "df1.to_csv('food_waste_data_1.csv', index=False)\n",
    "df2.to_excel('food_waste_data_2.xlsx', index=False)\n",
    "df3.to_json('food_waste_data_3.json', orient='records', lines=False, force_ascii=False)\n",
    "\n",
    "# Вывод первых 10 записей для проверки\n",
    "print(\"Датасет 1:\")\n",
    "print(df1.head(10))\n",
    "print(\"\\nДатасет 2:\")\n",
    "print(df2.head(10))\n",
    "print(\"\\nДатасет 3:\")\n",
    "print(df3.head(10))"
   ]
  },
  {
   "cell_type": "markdown",
   "metadata": {},
   "source": [
    "# Объединение данных"
   ]
  },
  {
   "cell_type": "code",
   "execution_count": 5,
   "metadata": {},
   "outputs": [
    {
     "name": "stdout",
     "output_type": "stream",
     "text": [
      "        Дата          Категория  Регион  Объем_потерь_кг\n",
      "0 2020-08-31           Зерновые   Север            728.0\n",
      "1 2024-02-29              Овощи      Юг            196.0\n",
      "2 2018-06-30  Молочные продукты   Запад            748.0\n",
      "3 2021-11-30             Фрукты  Восток              NaN\n",
      "4 2018-10-31           Зерновые  Восток            690.0\n",
      "5 2020-09-30              Овощи  Восток            473.0\n",
      "6 2024-11-30           Зерновые   Запад            404.0\n",
      "7 2022-12-31             Фрукты  Восток            140.0\n",
      "8 2021-01-31           Зерновые  Восток            115.0\n",
      "9 2019-04-30           Зерновые  Восток            669.0\n"
     ]
    }
   ],
   "source": [
    "import pandas as pd\n",
    "\n",
    "# Загрузка данных из файлов с явным указанием формата даты\n",
    "df_csv = pd.read_csv('food_waste_data_1.csv', parse_dates=['Дата'])\n",
    "df_excel = pd.read_excel('food_waste_data_2.xlsx', parse_dates=['Дата'])\n",
    "df_json = pd.read_json('food_waste_data_3.json', convert_dates=['Дата'])\n",
    "\n",
    "# Объединение данных в один DataFrame\n",
    "combined_df = pd.concat([df_csv, df_excel, df_json], ignore_index=True)\n",
    "\n",
    "# Проверка формата даты\n",
    "combined_df['Дата'] = pd.to_datetime(combined_df['Дата'], errors='coerce')\n",
    "\n",
    "# Сохранение объединенного датасета в один CSV файл\n",
    "combined_df.to_csv('combined_food_waste_data.csv', index=False)\n",
    "\n",
    "# Вывод первых 10 записей для проверки\n",
    "print(combined_df.head(10))"
   ]
  },
  {
   "cell_type": "markdown",
   "metadata": {},
   "source": [
    "# Предобработка данных"
   ]
  },
  {
   "cell_type": "code",
   "execution_count": 4,
   "metadata": {},
   "outputs": [
    {
     "name": "stdout",
     "output_type": "stream",
     "text": [
      "Отрицательные значения:\n",
      " Empty DataFrame\n",
      "Columns: [Страна,  год,  Категория продуктов питания, Общее_количество_отходов_(тонн),  Экономический ущерб (Млн долларов),  Среднее количество отходов на душу населения (Кг),  Численность населения (Млн), Бытовые отходы (%)]\n",
      "Index: []\n",
      "Пропущенные значения:\n",
      " Страна                                                0\n",
      " год                                                  0\n",
      " Категория продуктов питания                          0\n",
      "Общее_количество_отходов_(тонн)                       0\n",
      " Экономический ущерб (Млн долларов)                   0\n",
      " Среднее количество отходов на душу населения (Кг)    0\n",
      " Численность населения (Млн)                          0\n",
      "Бытовые отходы (%)                                    0\n",
      "dtype: int64\n"
     ]
    },
    {
     "ename": "KeyError",
     "evalue": "['год', 'Категория продуктов питания']",
     "output_type": "error",
     "traceback": [
      "\u001b[1;31m---------------------------------------------------------------------------\u001b[0m",
      "\u001b[1;31mKeyError\u001b[0m                                  Traceback (most recent call last)",
      "\u001b[1;32m~\\AppData\\Local\\Temp\\ipykernel_13156\\3876995844.py\u001b[0m in \u001b[0;36m?\u001b[1;34m()\u001b[0m\n\u001b[0;32m     17\u001b[0m \u001b[0mmissing_values\u001b[0m \u001b[1;33m=\u001b[0m \u001b[0mcombined_df\u001b[0m\u001b[1;33m.\u001b[0m\u001b[0misnull\u001b[0m\u001b[1;33m(\u001b[0m\u001b[1;33m)\u001b[0m\u001b[1;33m.\u001b[0m\u001b[0msum\u001b[0m\u001b[1;33m(\u001b[0m\u001b[1;33m)\u001b[0m\u001b[1;33m\u001b[0m\u001b[1;33m\u001b[0m\u001b[0m\n\u001b[0;32m     18\u001b[0m \u001b[0mprint\u001b[0m\u001b[1;33m(\u001b[0m\u001b[1;34m\"Пропущенные значения:\\n\"\u001b[0m\u001b[1;33m,\u001b[0m \u001b[0mmissing_values\u001b[0m\u001b[1;33m)\u001b[0m\u001b[1;33m\u001b[0m\u001b[1;33m\u001b[0m\u001b[0m\n\u001b[0;32m     19\u001b[0m \u001b[1;33m\u001b[0m\u001b[0m\n\u001b[0;32m     20\u001b[0m \u001b[1;31m# Удаление записей с пропущенными значениями в критических столбцах\u001b[0m\u001b[1;33m\u001b[0m\u001b[1;33m\u001b[0m\u001b[0m\n\u001b[1;32m---> 21\u001b[1;33m \u001b[0mcombined_df\u001b[0m\u001b[1;33m.\u001b[0m\u001b[0mdropna\u001b[0m\u001b[1;33m(\u001b[0m\u001b[0msubset\u001b[0m\u001b[1;33m=\u001b[0m\u001b[1;33m[\u001b[0m\u001b[1;34m'Страна'\u001b[0m\u001b[1;33m,\u001b[0m \u001b[1;34m'год'\u001b[0m\u001b[1;33m,\u001b[0m \u001b[1;34m'Категория продуктов питания'\u001b[0m\u001b[1;33m]\u001b[0m\u001b[1;33m,\u001b[0m \u001b[0minplace\u001b[0m\u001b[1;33m=\u001b[0m\u001b[1;32mTrue\u001b[0m\u001b[1;33m)\u001b[0m\u001b[1;33m\u001b[0m\u001b[1;33m\u001b[0m\u001b[0m\n\u001b[0m\u001b[0;32m     22\u001b[0m \u001b[1;33m\u001b[0m\u001b[0m\n\u001b[0;32m     23\u001b[0m \u001b[1;31m# 3. Обработка значений в 'Общее_количество_отходов_(тонн)'\u001b[0m\u001b[1;33m\u001b[0m\u001b[1;33m\u001b[0m\u001b[0m\n\u001b[0;32m     24\u001b[0m \u001b[1;31m# Заменяем отрицательные значения, нули и пропущенные значения на 0\u001b[0m\u001b[1;33m\u001b[0m\u001b[1;33m\u001b[0m\u001b[0m\n",
      "\u001b[1;32mc:\\Users\\yegor\\AppData\\Local\\Programs\\Python\\Python312\\Lib\\site-packages\\pandas\\core\\frame.py\u001b[0m in \u001b[0;36m?\u001b[1;34m(self, axis, how, thresh, subset, inplace, ignore_index)\u001b[0m\n\u001b[0;32m   6666\u001b[0m             \u001b[0max\u001b[0m \u001b[1;33m=\u001b[0m \u001b[0mself\u001b[0m\u001b[1;33m.\u001b[0m\u001b[0m_get_axis\u001b[0m\u001b[1;33m(\u001b[0m\u001b[0magg_axis\u001b[0m\u001b[1;33m)\u001b[0m\u001b[1;33m\u001b[0m\u001b[1;33m\u001b[0m\u001b[0m\n\u001b[0;32m   6667\u001b[0m             \u001b[0mindices\u001b[0m \u001b[1;33m=\u001b[0m \u001b[0max\u001b[0m\u001b[1;33m.\u001b[0m\u001b[0mget_indexer_for\u001b[0m\u001b[1;33m(\u001b[0m\u001b[0msubset\u001b[0m\u001b[1;33m)\u001b[0m\u001b[1;33m\u001b[0m\u001b[1;33m\u001b[0m\u001b[0m\n\u001b[0;32m   6668\u001b[0m             \u001b[0mcheck\u001b[0m \u001b[1;33m=\u001b[0m \u001b[0mindices\u001b[0m \u001b[1;33m==\u001b[0m \u001b[1;33m-\u001b[0m\u001b[1;36m1\u001b[0m\u001b[1;33m\u001b[0m\u001b[1;33m\u001b[0m\u001b[0m\n\u001b[0;32m   6669\u001b[0m             \u001b[1;32mif\u001b[0m \u001b[0mcheck\u001b[0m\u001b[1;33m.\u001b[0m\u001b[0many\u001b[0m\u001b[1;33m(\u001b[0m\u001b[1;33m)\u001b[0m\u001b[1;33m:\u001b[0m\u001b[1;33m\u001b[0m\u001b[1;33m\u001b[0m\u001b[0m\n\u001b[1;32m-> 6670\u001b[1;33m                 \u001b[1;32mraise\u001b[0m \u001b[0mKeyError\u001b[0m\u001b[1;33m(\u001b[0m\u001b[0mnp\u001b[0m\u001b[1;33m.\u001b[0m\u001b[0marray\u001b[0m\u001b[1;33m(\u001b[0m\u001b[0msubset\u001b[0m\u001b[1;33m)\u001b[0m\u001b[1;33m[\u001b[0m\u001b[0mcheck\u001b[0m\u001b[1;33m]\u001b[0m\u001b[1;33m.\u001b[0m\u001b[0mtolist\u001b[0m\u001b[1;33m(\u001b[0m\u001b[1;33m)\u001b[0m\u001b[1;33m)\u001b[0m\u001b[1;33m\u001b[0m\u001b[1;33m\u001b[0m\u001b[0m\n\u001b[0m\u001b[0;32m   6671\u001b[0m             \u001b[0magg_obj\u001b[0m \u001b[1;33m=\u001b[0m \u001b[0mself\u001b[0m\u001b[1;33m.\u001b[0m\u001b[0mtake\u001b[0m\u001b[1;33m(\u001b[0m\u001b[0mindices\u001b[0m\u001b[1;33m,\u001b[0m \u001b[0maxis\u001b[0m\u001b[1;33m=\u001b[0m\u001b[0magg_axis\u001b[0m\u001b[1;33m)\u001b[0m\u001b[1;33m\u001b[0m\u001b[1;33m\u001b[0m\u001b[0m\n\u001b[0;32m   6672\u001b[0m \u001b[1;33m\u001b[0m\u001b[0m\n\u001b[0;32m   6673\u001b[0m         \u001b[1;32mif\u001b[0m \u001b[0mthresh\u001b[0m \u001b[1;32mis\u001b[0m \u001b[1;32mnot\u001b[0m \u001b[0mlib\u001b[0m\u001b[1;33m.\u001b[0m\u001b[0mno_default\u001b[0m\u001b[1;33m:\u001b[0m\u001b[1;33m\u001b[0m\u001b[1;33m\u001b[0m\u001b[0m\n",
      "\u001b[1;31mKeyError\u001b[0m: ['год', 'Категория продуктов питания']"
     ]
    }
   ],
   "source": [
    "import pandas as pd\n",
    "import numpy as np\n",
    "\n",
    "# Загрузка объединенного датасета\n",
    "combined_df = pd.read_csv('global_food_wastage_dataset.csv')\n",
    "\n",
    "# 1. Очистка данных от ошибок и аномалий\n",
    "# Проверка на отрицательные значения в 'Общее_количество_отходов_(тонн)'\n",
    "negative_values = combined_df[combined_df['Общее_количество_отходов_(тонн)'] < 0]\n",
    "print(\"Отрицательные значения:\\n\", negative_values)\n",
    "\n",
    "# Удаление отрицательных значений (если это необходимо)\n",
    "combined_df = combined_df[combined_df['Общее_количество_отходов_(тонн)'] >= 0]\n",
    "\n",
    "# 2. Обработка пропущенных значений\n",
    "# Определение количества пропущенных значений\n",
    "missing_values = combined_df.isnull().sum()\n",
    "print(\"Пропущенные значения:\\n\", missing_values)\n",
    "\n",
    "# Удаление записей с пропущенными значениями в критических столбцах\n",
    "combined_df.dropna(subset=['Страна', 'год', 'Категория продуктов питания'], inplace=True)\n",
    "\n",
    "# 3. Обработка значений в 'Общее_количество_отходов_(тонн)'\n",
    "# Заменяем отрицательные значения, нули и пропущенные значения на 0\n",
    "combined_df['Общее_количество_отходов_(тонн)'] = combined_df['Общее_количество_отходов_(тонн)'].clip(lower=0).fillna(0)\n",
    "\n",
    "# 4. Определение критических значений из пропущенных\n",
    "# Если пропущенные значения превышают 10% от общего числа записей, это критично\n",
    "critical_threshold = 0.1 * len(combined_df)\n",
    "critical_missing = missing_values[missing_values > critical_threshold]\n",
    "print(\"Критические пропущенные значения:\\n\", critical_missing)\n",
    "\n",
    "# 5. Оценка погрешности при допустимом количестве пропущенных значений\n",
    "acceptable_missing = combined_df.isnull().sum().sum() / len(combined_df)\n",
    "print(f\"Допустимое количество пропущенных значений: {acceptable_missing:.2%}\")\n",
    "\n",
    "# 6. Преобразование типов данных\n",
    "# Убедимся, что 'год' в формате datetime (если это необходимо)\n",
    "# combined_df['год'] = pd.to_datetime(combined_df['год'], errors='coerce')  # Если 'год' в формате даты\n",
    "\n",
    "# 7. Оценка качества данных\n",
    "# Проверка на дубликаты\n",
    "duplicates = combined_df.duplicated().sum()\n",
    "print(f\"Количество дубликатов: {duplicates}\")\n",
    "\n",
    "# 8. Обработка дубликатов\n",
    "combined_df.drop_duplicates(inplace=True)\n",
    "\n",
    "# 9. Формирование отчета об ошибках\n",
    "error_report = {\n",
    "    'Отрицательные значения': negative_values.shape[0],\n",
    "    'Пропущенные значения': missing_values,\n",
    "    'Критические пропущенные значения': critical_missing,\n",
    "    'Количество дубликатов': duplicates\n",
    "}\n",
    "\n",
    "error_report_df = pd.DataFrame.from_dict(error_report, orient='index', columns=['Количество'])\n",
    "error_report_df.to_csv('error_report.csv')\n",
    "\n",
    "# Сохранение очищенного датасета\n",
    "combined_df.to_csv('cleaned_food_waste_data.csv', index=False)\n",
    "\n",
    "# Вывод первых 10 записей для проверки\n",
    "print(combined_df.head(10))"
   ]
  },
  {
   "cell_type": "code",
   "execution_count": 12,
   "metadata": {},
   "outputs": [
    {
     "name": "stdout",
     "output_type": "stream",
     "text": [
      "Пропущенные значения:\n",
      " Дата               0\n",
      "Категория          0\n",
      "Регион             0\n",
      "Объем_потерь_кг    0\n",
      "dtype: int64\n"
     ]
    }
   ],
   "source": [
    "import pandas as pd \n",
    "\n",
    "data = pd.read_csv('cleaned_food_waste_data1.csv')\n",
    "missing_values = combined_df.isnull().sum()\n",
    "print(\"Пропущенные значения:\\n\", missing_values)\n",
    "\n",
    "\n"
   ]
  },
  {
   "cell_type": "markdown",
   "metadata": {},
   "source": []
  }
 ],
 "metadata": {
  "kernelspec": {
   "display_name": "Python 3",
   "language": "python",
   "name": "python3"
  },
  "language_info": {
   "codemirror_mode": {
    "name": "ipython",
    "version": 3
   },
   "file_extension": ".py",
   "mimetype": "text/x-python",
   "name": "python",
   "nbconvert_exporter": "python",
   "pygments_lexer": "ipython3",
   "version": "3.12.5"
  }
 },
 "nbformat": 4,
 "nbformat_minor": 2
}
